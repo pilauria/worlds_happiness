{
 "cells": [
  {
   "cell_type": "code",
   "execution_count": 5,
   "metadata": {},
   "outputs": [
    {
     "name": "stdout",
     "output_type": "stream",
     "text": [
      "2015 Data:\n",
      "       Country          Region  Happiness Rank  Happiness Score  \\\n",
      "0  Switzerland  Western Europe               1            7.587   \n",
      "1      Iceland  Western Europe               2            7.561   \n",
      "2      Denmark  Western Europe               3            7.527   \n",
      "3       Norway  Western Europe               4            7.522   \n",
      "4       Canada   North America               5            7.427   \n",
      "\n",
      "   Standard Error  Economy (GDP per Capita)   Family  \\\n",
      "0         0.03411                   1.39651  1.34951   \n",
      "1         0.04884                   1.30232  1.40223   \n",
      "2         0.03328                   1.32548  1.36058   \n",
      "3         0.03880                   1.45900  1.33095   \n",
      "4         0.03553                   1.32629  1.32261   \n",
      "\n",
      "   Health (Life Expectancy)  Freedom  Trust (Government Corruption)  \\\n",
      "0                   0.94143  0.66557                        0.41978   \n",
      "1                   0.94784  0.62877                        0.14145   \n",
      "2                   0.87464  0.64938                        0.48357   \n",
      "3                   0.88521  0.66973                        0.36503   \n",
      "4                   0.90563  0.63297                        0.32957   \n",
      "\n",
      "   Generosity  Dystopia Residual  Year  \n",
      "0     0.29678            2.51738  2015  \n",
      "1     0.43630            2.70201  2015  \n",
      "2     0.34139            2.49204  2015  \n",
      "3     0.34699            2.46531  2015  \n",
      "4     0.45811            2.45176  2015  \n",
      "\n",
      "2016 Data:\n",
      "       Country          Region  Happiness Rank  Happiness Score  \\\n",
      "0      Denmark  Western Europe               1            7.526   \n",
      "1  Switzerland  Western Europe               2            7.509   \n",
      "2      Iceland  Western Europe               3            7.501   \n",
      "3       Norway  Western Europe               4            7.498   \n",
      "4      Finland  Western Europe               5            7.413   \n",
      "\n",
      "   Lower Confidence Interval  Upper Confidence Interval  \\\n",
      "0                      7.460                      7.592   \n",
      "1                      7.428                      7.590   \n",
      "2                      7.333                      7.669   \n",
      "3                      7.421                      7.575   \n",
      "4                      7.351                      7.475   \n",
      "\n",
      "   Economy (GDP per Capita)   Family  Health (Life Expectancy)  Freedom  \\\n",
      "0                   1.44178  1.16374                   0.79504  0.57941   \n",
      "1                   1.52733  1.14524                   0.86303  0.58557   \n",
      "2                   1.42666  1.18326                   0.86733  0.56624   \n",
      "3                   1.57744  1.12690                   0.79579  0.59609   \n",
      "4                   1.40598  1.13464                   0.81091  0.57104   \n",
      "\n",
      "   Trust (Government Corruption)  Generosity  Dystopia Residual  Year  \n",
      "0                        0.44453     0.36171            2.73939  2016  \n",
      "1                        0.41203     0.28083            2.69463  2016  \n",
      "2                        0.14975     0.47678            2.83137  2016  \n",
      "3                        0.35776     0.37895            2.66465  2016  \n",
      "4                        0.41004     0.25492            2.82596  2016  \n",
      "\n",
      "2017 Data:\n",
      "       Country  Happiness.Rank  Happiness.Score  Whisker.high  Whisker.low  \\\n",
      "0       Norway               1            7.537      7.594445     7.479556   \n",
      "1      Denmark               2            7.522      7.581728     7.462272   \n",
      "2      Iceland               3            7.504      7.622030     7.385970   \n",
      "3  Switzerland               4            7.494      7.561772     7.426227   \n",
      "4      Finland               5            7.469      7.527542     7.410458   \n",
      "\n",
      "   Economy..GDP.per.Capita.    Family  Health..Life.Expectancy.   Freedom  \\\n",
      "0                  1.616463  1.533524                  0.796667  0.635423   \n",
      "1                  1.482383  1.551122                  0.792566  0.626007   \n",
      "2                  1.480633  1.610574                  0.833552  0.627163   \n",
      "3                  1.564980  1.516912                  0.858131  0.620071   \n",
      "4                  1.443572  1.540247                  0.809158  0.617951   \n",
      "\n",
      "   Generosity  Trust..Government.Corruption.  Dystopia.Residual  Year  \n",
      "0    0.362012                       0.315964           2.277027  2017  \n",
      "1    0.355280                       0.400770           2.313707  2017  \n",
      "2    0.475540                       0.153527           2.322715  2017  \n",
      "3    0.290549                       0.367007           2.276716  2017  \n",
      "4    0.245483                       0.382612           2.430182  2017  \n"
     ]
    }
   ],
   "source": [
    "# Import pandas\n",
    "import pandas as pd\n",
    "\n",
    "# Read and parse World_Happiness_2015.csv\n",
    "happiness2015 = pd.read_csv('../data/World_Happiness_2015.csv')\n",
    "# Add year column for 2015\n",
    "happiness2015['Year'] = 2015\n",
    "\n",
    "# Read and parse World_Happiness_2016.csv\n",
    "happiness2016 = pd.read_csv('../data/World_Happiness_2016.csv')\n",
    "# Add year column for 2016\n",
    "happiness2016['Year'] = 2016\n",
    "\n",
    "# Read and parse World_Happiness_2017.csv\n",
    "happiness2017 = pd.read_csv('../data/World_Happiness_2017.csv')\n",
    "# Add year column for 2017\n",
    "happiness2017['Year'] = 2017\n",
    "\n",
    "# You can view the data like this:\n",
    "print(\"2015 Data:\")\n",
    "print(happiness2015.head())\n",
    "print(\"\\n2016 Data:\")\n",
    "print(happiness2016.head())\n",
    "print(\"\\n2017 Data:\")\n",
    "print(happiness2017.head())"
   ]
  },
  {
   "cell_type": "code",
   "execution_count": 6,
   "metadata": {},
   "outputs": [
    {
     "name": "stdout",
     "output_type": "stream",
     "text": [
      "Combined 2015-2016 Data (First 3 rows from each year) with consecutive index:\n",
      "       Country  Happiness Score  Year\n",
      "0  Switzerland            7.587  2015\n",
      "1      Iceland            7.561  2015\n",
      "2      Denmark            7.527  2015\n",
      "3      Denmark            7.526  2016\n",
      "4  Switzerland            7.509  2016\n",
      "5      Iceland            7.501  2016\n"
     ]
    }
   ],
   "source": [
    "#Select only the columns we want from each dataframe\n",
    "happiness2015_subset = happiness2015[['Country', 'Happiness Score', 'Year']].head(3)\n",
    "happiness2016_subset = happiness2016[['Country', 'Happiness Score', 'Year']].head(3)\n",
    "\n",
    "# Concatenate the two dataframes vertically and reset the index\n",
    "happiness_combined_1516 = pd.concat([happiness2015_subset, happiness2016_subset], axis=0).reset_index(drop=True)\n",
    "\n",
    "# Display the result\n",
    "print(\"Combined 2015-2016 Data (First 3 rows from each year) with consecutive index:\")\n",
    "print(happiness_combined_1516)\n",
    "\n",
    "\n"
   ]
  },
  {
   "cell_type": "code",
   "execution_count": 9,
   "metadata": {},
   "outputs": [
    {
     "name": "stdout",
     "output_type": "stream",
     "text": [
      "Combined 2015-2016 Data (Merged on Country):\n",
      "  Country  Happiness Rank_2015  Year_2015  Happiness Rank_2016  Year_2016\n",
      "0  Norway                    4       2015                    4       2016\n"
     ]
    }
   ],
   "source": [
    "three_2015 = happiness2015[['Country','Happiness Rank','Year']].iloc[2:5]\n",
    "three_2016 = happiness2016[['Country','Happiness Rank','Year']].iloc[2:5]\n",
    "\n",
    "# Merge the two dataframes on the Country column\n",
    "merged = pd.merge(three_2015, three_2016, on='Country', how='inner', suffixes=('_2015', '_2016'))\n",
    "\n",
    "# Display the result\n",
    "print(\"Combined 2015-2016 Data (Merged on Country):\")\n",
    "print(merged)\n",
    "\n"
   ]
  },
  {
   "cell_type": "code",
   "execution_count": 10,
   "metadata": {},
   "outputs": [
    {
     "name": "stdout",
     "output_type": "stream",
     "text": [
      "Countries in 2015 dataset:\n",
      "{'Canada', 'Norway', 'Denmark'}\n",
      "\n",
      "Countries in 2016 dataset:\n",
      "{'Finland', 'Iceland', 'Norway'}\n",
      "\n",
      "Countries present in both years:\n",
      "{'Norway'}\n",
      "\n",
      "Merged Dataset:\n",
      "  Country  Happiness Rank_x  Year_x  Happiness Rank_y  Year_y\n",
      "0  Norway                 4    2015                 4    2016\n"
     ]
    }
   ],
   "source": [
    "\n",
    "# Print unique countries in each dataset\n",
    "print(\"Countries in 2015 dataset:\")\n",
    "print(set(three_2015['Country']))\n",
    "print(\"\\nCountries in 2016 dataset:\")\n",
    "print(set(three_2016['Country']))\n",
    "\n",
    "# Check for exact matches\n",
    "matching_countries = set(three_2015['Country']) & set(three_2016['Country'])\n",
    "print(\"\\nCountries present in both years:\")\n",
    "print(matching_countries)\n",
    "\n",
    "# Merge the two dataframes on the Country column\n",
    "merged = pd.merge(three_2015, three_2016, on='Country')\n",
    "print(\"\\nMerged Dataset:\")\n",
    "print(merged)"
   ]
  }
 ],
 "metadata": {
  "kernelspec": {
   "display_name": "Python 3",
   "language": "python",
   "name": "python3"
  },
  "language_info": {
   "codemirror_mode": {
    "name": "ipython",
    "version": 3
   },
   "file_extension": ".py",
   "mimetype": "text/x-python",
   "name": "python",
   "nbconvert_exporter": "python",
   "pygments_lexer": "ipython3",
   "version": "3.13.0"
  }
 },
 "nbformat": 4,
 "nbformat_minor": 2
}
