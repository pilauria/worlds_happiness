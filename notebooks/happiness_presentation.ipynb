{
 "cells": [
  {
   "cell_type": "markdown",
   "metadata": {},
   "source": [
    "# World Happiness Analysis: Key Insights\n",
    "\n",
    "## Understanding Global Happiness Trends (2015-2017)"
   ]
  },
  {
   "cell_type": "code",
   "execution_count": 4,
   "metadata": {},
   "outputs": [
    {
     "ename": "ModuleNotFoundError",
     "evalue": "No module named 'src'",
     "output_type": "error",
     "traceback": [
      "\u001b[1;31m---------------------------------------------------------------------------\u001b[0m",
      "\u001b[1;31mModuleNotFoundError\u001b[0m                       Traceback (most recent call last)",
      "Cell \u001b[1;32mIn[4], line 8\u001b[0m\n\u001b[0;32m      5\u001b[0m \u001b[38;5;28;01mimport\u001b[39;00m \u001b[38;5;21;01mseaborn\u001b[39;00m \u001b[38;5;28;01mas\u001b[39;00m \u001b[38;5;21;01msns\u001b[39;00m\n\u001b[0;32m      7\u001b[0m \u001b[38;5;66;03m# Import our custom processing functions\u001b[39;00m\n\u001b[1;32m----> 8\u001b[0m \u001b[38;5;28;01mfrom\u001b[39;00m \u001b[38;5;21;01msrc\u001b[39;00m\u001b[38;5;21;01m.\u001b[39;00m\u001b[38;5;21;01mdata_processing\u001b[39;00m \u001b[38;5;28;01mimport\u001b[39;00m load_happiness_data, calculate_regional_stats\n",
      "\u001b[1;31mModuleNotFoundError\u001b[0m: No module named 'src'"
     ]
    }
   ],
   "source": [
    "# Import necessary libraries\n",
    "import pandas as pd\n",
    "import numpy as np\n",
    "import matplotlib.pyplot as plt\n",
    "import seaborn as sns\n",
    "\n",
    "# Import our custom processing functions\n",
    "from src.data_processing import load_happiness_data, calculate_regional_stats"
   ]
  },
  {
   "cell_type": "markdown",
   "metadata": {},
   "source": [
    "## 1. Data Overview\n",
    "\n",
    "### What We Analyzed\n",
    "- Happiness data from 2015-2017\n",
    "- Multiple global regions\n",
    "- Key factors influencing happiness scores"
   ]
  },
  {
   "cell_type": "code",
   "execution_count": null,
   "metadata": {},
   "outputs": [],
   "source": [
    "# Load datasets\n",
    "datasets = {\n",
    "    '2015': load_happiness_data('data/World_Happiness_2015.csv'),\n",
    "    '2016': load_happiness_data('data/World_Happiness_2016.csv'),\n",
    "    '2017': load_happiness_data('data/World_Happiness_2017.csv')\n",
    "}\n",
    "\n",
    "# Combine datasets\n",
    "combined_df = pd.concat(datasets.values(), keys=datasets.keys())\n",
    "print(\"Total countries analyzed:\", combined_df['Country'].nunique())\n",
    "print(\"Years covered:\", list(datasets.keys()))"
   ]
  },
  {
   "cell_type": "markdown",
   "metadata": {},
   "source": [
    "## 2. Regional Happiness Insights\n",
    "\n",
    "### Understanding Happiness Across Regions"
   ]
  },
  {
   "cell_type": "code",
   "execution_count": null,
   "metadata": {},
   "outputs": [],
   "source": [
    "# Calculate regional statistics\n",
    "regional_stats = {}\n",
    "for year, df in datasets.items():\n",
    "    regional_stats[year] = calculate_regional_stats(df)\n",
    "\n",
    "# Visualization of regional happiness\n",
    "plt.figure(figsize=(12, 6))\n",
    "for year, stats in regional_stats.items():\n",
    "    plt.bar(stats['Region'] + f' ({year})', stats['mean'], label=year)\n",
    "\n",
    "plt.title('Regional Happiness Scores (2015-2017)')\n",
    "plt.xlabel('Region')\n",
    "plt.ylabel('Average Happiness Score')\n",
    "plt.legend()\n",
    "plt.xticks(rotation=45)\n",
    "plt.tight_layout()\n",
    "plt.show()"
   ]
  },
  {
   "cell_type": "markdown",
   "metadata": {},
   "source": [
    "## 3. Key Commercial Insights\n",
    "\n",
    "### Business-Relevant Observations\n",
    "1. **Consistency**: Happiness scores show remarkable stability across years\n",
    "2. **Regional Variations**: Significant differences exist between regions\n",
    "3. **Potential Market Opportunities**: Regions with lower happiness scores might need targeted interventions"
   ]
  },
  {
   "cell_type": "code",
   "execution_count": null,
   "metadata": {},
   "outputs": [],
   "source": [
    "# Correlation analysis\n",
    "correlation_matrix = combined_df[['Happiness Score', 'Economy (GDP per Capita)', 'Family', 'Health (Life Expectancy)']].corr()\n",
    "\n",
    "plt.figure(figsize=(10, 8))\n",
    "sns.heatmap(correlation_matrix, annot=True, cmap='coolwarm', center=0)\n",
    "plt.title('Factors Correlated with Happiness Score')\n",
    "plt.tight_layout()\n",
    "plt.show()"
   ]
  },
  {
   "cell_type": "markdown",
   "metadata": {},
   "source": [
    "## 4. Actionable Recommendations\n",
    "\n",
    "### Strategic Insights for Business\n",
    "1. **Target Market Analysis**: Focus on regions with growth potential\n",
    "2. **Product Development**: Align strategies with regional happiness factors\n",
    "3. **Social Responsibility**: Invest in initiatives that improve key happiness indicators"
   ]
  }
 ],
 "metadata": {
  "kernelspec": {
   "display_name": "Python 3",
   "language": "python",
   "name": "python3"
  },
  "language_info": {
   "codemirror_mode": {
    "name": "ipython",
    "version": 3
   },
   "file_extension": ".py",
   "mimetype": "text/x-python",
   "name": "python",
   "nbconvert_exporter": "python",
   "pygments_lexer": "ipython3",
   "version": "3.13.0"
  }
 },
 "nbformat": 4,
 "nbformat_minor": 2
}
